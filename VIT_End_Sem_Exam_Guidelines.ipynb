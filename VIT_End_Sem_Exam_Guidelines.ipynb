{
  "nbformat": 4,
  "nbformat_minor": 0,
  "metadata": {
    "colab": {
      "name": "VIT_End_Sem_Exam_Guidelines.ipynb",
      "provenance": [],
      "collapsed_sections": [],
      "authorship_tag": "ABX9TyOLXEdx706P+Guh4mYjalYu",
      "include_colab_link": true
    },
    "kernelspec": {
      "name": "python3",
      "display_name": "Python 3"
    }
  },
  "cells": [
    {
      "cell_type": "markdown",
      "metadata": {
        "id": "view-in-github",
        "colab_type": "text"
      },
      "source": [
        "<a href=\"https://colab.research.google.com/github/shubhamjante/VIT-EndSemesterExam/blob/master/VIT_End_Sem_Exam_Guidelines.ipynb\" target=\"_parent\"><img src=\"https://colab.research.google.com/assets/colab-badge.svg\" alt=\"Open In Colab\"/></a>"
      ]
    },
    {
      "cell_type": "markdown",
      "metadata": {
        "id": "GlIdGur4vXDQ",
        "colab_type": "text"
      },
      "source": [
        "# Overview"
      ]
    },
    {
      "cell_type": "markdown",
      "metadata": {
        "id": "eD6EFQ49vOK5",
        "colab_type": "text"
      },
      "source": [
        "This year, we set out to conduct an industry-wide survey that presents a truly comprehensive view of the state of data science and machine learning.\n",
        "\n",
        "The results include raw numbers about who is working with data, what’s happening with machine learning in different industries, and the best ways for new data scientists to break into the field."
      ]
    },
    {
      "cell_type": "markdown",
      "metadata": {
        "id": "NdGUw4bUvU0o",
        "colab_type": "text"
      },
      "source": [
        "# Survey Methodology\n",
        "\n",
        "<ul>\n",
        "    <li>\n",
        "        This survey received 23,859 usable respondents from 147 countries and territories. If a country or territory received less\n",
        "        than 50 respondents, we grouped them into a group named “Other” for anonymity.\n",
        "    </li>\n",
        "    <li>\n",
        "        We excluded respondents who were flagged by our survey system as “Spam”.\n",
        "    </li>\n",
        "    <li>\n",
        "        Not every question was shown to every respondent. \n",
        "    </li>\n",
        "    <li>\n",
        "        To protect the respondents’ identity, the answers to multiple choice questions have been separated into a separate data file\n",
        "        from the open-ended responses. We do not provide a key to match up the multiple choice and free form responses. Further, the\n",
        "        free form responses have been randomized column-wise such that the responses that appear on the same row did not necessarily\n",
        "        come from the same survey-taker.\n",
        "    </li>\n",
        "</ul>"
      ]
    },
    {
      "cell_type": "code",
      "metadata": {
        "id": "e19SrtHLvf7W",
        "colab_type": "code",
        "colab": {}
      },
      "source": [
        "import pandas as pd\n",
        "import numpy as np"
      ],
      "execution_count": 0,
      "outputs": []
    },
    {
      "cell_type": "code",
      "metadata": {
        "id": "_BgndC_pvkkB",
        "colab_type": "code",
        "outputId": "b0d54a98-7078-43f8-e98c-a36284cfc500",
        "colab": {
          "base_uri": "https://localhost:8080/",
          "height": 411
        }
      },
      "source": [
        "hosted_file_path = 'https://firebasestorage.googleapis.com/v0/b/oda-leads.appspot.com/o/dataset.csv?alt=media&token=6dc6aa7a-3cb0-4238-ab09-b7c533efd18b'\n",
        "data = pd.read_csv(hosted_file_path, header=[0]).drop(0).reset_index(drop=True)\n",
        "needed_cols = ['Q1','Q2','Q3','Q4','Q5','Q6','Q7','Q8','Q9','Q17','Q20','Q22','Q24','Q25','Q26','Q32','Q37']\n",
        "data = data[needed_cols]\n",
        "\n",
        "keys = data['Q5'].unique()\n",
        "values = ['Engineering', 'Computer Science', 'Mathematics', 'Information Technology', 'A Business Discipline',\n",
        "         'Environmental Science', 'Medical', 'I never declared a major', 'Other', 'Physics', 'Social Sciences',\n",
        "          'Humanities', 'Fine Arts']\n",
        "vals_to_replace_Q5 = dict(zip(keys, values))\n",
        "\n",
        "data['Q5'] = data['Q5'].map(vals_to_replace_Q5)\n",
        "\n",
        "data.head()"
      ],
      "execution_count": 2,
      "outputs": [
        {
          "output_type": "stream",
          "text": [
            "/usr/local/lib/python3.6/dist-packages/IPython/core/interactiveshell.py:2718: DtypeWarning: Columns (1,3,9,11,13,22,24,25,26,27,28,29,45,57,65,84,86,88,108,110,124,126,151,195,209,224,250,263,265,277,278,279,280,281,282,283,284,285,286,287,288,289,290,291,305,307,323,326,327,330,342,372,385,386,394,395) have mixed types.Specify dtype option on import or set low_memory=False.\n",
            "  interactivity=interactivity, compiler=compiler, result=result)\n"
          ],
          "name": "stderr"
        },
        {
          "output_type": "execute_result",
          "data": {
            "text/html": [
              "<div>\n",
              "<style scoped>\n",
              "    .dataframe tbody tr th:only-of-type {\n",
              "        vertical-align: middle;\n",
              "    }\n",
              "\n",
              "    .dataframe tbody tr th {\n",
              "        vertical-align: top;\n",
              "    }\n",
              "\n",
              "    .dataframe thead th {\n",
              "        text-align: right;\n",
              "    }\n",
              "</style>\n",
              "<table border=\"1\" class=\"dataframe\">\n",
              "  <thead>\n",
              "    <tr style=\"text-align: right;\">\n",
              "      <th></th>\n",
              "      <th>Q1</th>\n",
              "      <th>Q2</th>\n",
              "      <th>Q3</th>\n",
              "      <th>Q4</th>\n",
              "      <th>Q5</th>\n",
              "      <th>Q6</th>\n",
              "      <th>Q7</th>\n",
              "      <th>Q8</th>\n",
              "      <th>Q9</th>\n",
              "      <th>Q17</th>\n",
              "      <th>Q20</th>\n",
              "      <th>Q22</th>\n",
              "      <th>Q24</th>\n",
              "      <th>Q25</th>\n",
              "      <th>Q26</th>\n",
              "      <th>Q32</th>\n",
              "      <th>Q37</th>\n",
              "    </tr>\n",
              "  </thead>\n",
              "  <tbody>\n",
              "    <tr>\n",
              "      <th>0</th>\n",
              "      <td>Male</td>\n",
              "      <td>30-34</td>\n",
              "      <td>Indonesia</td>\n",
              "      <td>Bachelor’s degree</td>\n",
              "      <td>Engineering</td>\n",
              "      <td>Other</td>\n",
              "      <td>Manufacturing/Fabrication</td>\n",
              "      <td>5-10</td>\n",
              "      <td>18668</td>\n",
              "      <td>NaN</td>\n",
              "      <td>NaN</td>\n",
              "      <td>NaN</td>\n",
              "      <td>I have never written code but I want to learn</td>\n",
              "      <td>I have never studied machine learning but plan...</td>\n",
              "      <td>Definitely not</td>\n",
              "      <td>NaN</td>\n",
              "      <td>NaN</td>\n",
              "    </tr>\n",
              "    <tr>\n",
              "      <th>1</th>\n",
              "      <td>Female</td>\n",
              "      <td>30-34</td>\n",
              "      <td>United States of America</td>\n",
              "      <td>Master’s degree</td>\n",
              "      <td>Computer Science</td>\n",
              "      <td>Data Scientist</td>\n",
              "      <td>I am a student</td>\n",
              "      <td>0-1</td>\n",
              "      <td>2726</td>\n",
              "      <td>Java</td>\n",
              "      <td>NaN</td>\n",
              "      <td>ggplot2</td>\n",
              "      <td>5-10 years</td>\n",
              "      <td>&lt; 1 year</td>\n",
              "      <td>Definitely yes</td>\n",
              "      <td>Time Series Data</td>\n",
              "      <td>DataCamp</td>\n",
              "    </tr>\n",
              "    <tr>\n",
              "      <th>2</th>\n",
              "      <td>Male</td>\n",
              "      <td>22-24</td>\n",
              "      <td>India</td>\n",
              "      <td>Master’s degree</td>\n",
              "      <td>Mathematics</td>\n",
              "      <td>Data Analyst</td>\n",
              "      <td>I am a student</td>\n",
              "      <td>0-1</td>\n",
              "      <td>682</td>\n",
              "      <td>SQL</td>\n",
              "      <td>NaN</td>\n",
              "      <td>NaN</td>\n",
              "      <td>5-10 years</td>\n",
              "      <td>2-3 years</td>\n",
              "      <td>Maybe</td>\n",
              "      <td>NaN</td>\n",
              "      <td>Coursera</td>\n",
              "    </tr>\n",
              "    <tr>\n",
              "      <th>3</th>\n",
              "      <td>Male</td>\n",
              "      <td>35-39</td>\n",
              "      <td>Chile</td>\n",
              "      <td>Doctoral degree</td>\n",
              "      <td>Information Technology</td>\n",
              "      <td>Other</td>\n",
              "      <td>Academics/Education</td>\n",
              "      <td>10-15</td>\n",
              "      <td>11957</td>\n",
              "      <td>NaN</td>\n",
              "      <td>NaN</td>\n",
              "      <td>NaN</td>\n",
              "      <td>&lt; 1 year</td>\n",
              "      <td>&lt; 1 year</td>\n",
              "      <td>Probably not</td>\n",
              "      <td>Numerical Data</td>\n",
              "      <td>NaN</td>\n",
              "    </tr>\n",
              "    <tr>\n",
              "      <th>4</th>\n",
              "      <td>Male</td>\n",
              "      <td>18-21</td>\n",
              "      <td>India</td>\n",
              "      <td>Master’s degree</td>\n",
              "      <td>Information Technology</td>\n",
              "      <td>Other</td>\n",
              "      <td>Other</td>\n",
              "      <td>0-1</td>\n",
              "      <td>2696</td>\n",
              "      <td>NaN</td>\n",
              "      <td>Keras</td>\n",
              "      <td>Matplotlib</td>\n",
              "      <td>&lt; 1 year</td>\n",
              "      <td>&lt; 1 year</td>\n",
              "      <td>Probably not</td>\n",
              "      <td>Image Data</td>\n",
              "      <td>Udacity</td>\n",
              "    </tr>\n",
              "  </tbody>\n",
              "</table>\n",
              "</div>"
            ],
            "text/plain": [
              "       Q1     Q2  ...               Q32       Q37\n",
              "0    Male  30-34  ...               NaN       NaN\n",
              "1  Female  30-34  ...  Time Series Data  DataCamp\n",
              "2    Male  22-24  ...               NaN  Coursera\n",
              "3    Male  35-39  ...    Numerical Data       NaN\n",
              "4    Male  18-21  ...        Image Data   Udacity\n",
              "\n",
              "[5 rows x 17 columns]"
            ]
          },
          "metadata": {
            "tags": []
          },
          "execution_count": 2
        }
      ]
    },
    {
      "cell_type": "code",
      "metadata": {
        "id": "TFkr1iRzyDHO",
        "colab_type": "code",
        "colab": {}
      },
      "source": [
        ""
      ],
      "execution_count": 0,
      "outputs": []
    }
  ]
}